{
  "nbformat": 4,
  "nbformat_minor": 0,
  "metadata": {
    "colab": {
      "provenance": [],
      "authorship_tag": "ABX9TyNrmE6lEY97YPKc/WT7hflm",
      "include_colab_link": true
    },
    "kernelspec": {
      "name": "python3",
      "display_name": "Python 3"
    },
    "language_info": {
      "name": "python"
    }
  },
  "cells": [
    {
      "cell_type": "markdown",
      "metadata": {
        "id": "view-in-github",
        "colab_type": "text"
      },
      "source": [
        "<a href=\"https://colab.research.google.com/github/TonyMendes/TestingPython/blob/main/My_firstPY.ipynb\" target=\"_parent\"><img src=\"https://colab.research.google.com/assets/colab-badge.svg\" alt=\"Open In Colab\"/></a>"
      ]
    },
    {
      "cell_type": "code",
      "execution_count": 38,
      "metadata": {
        "colab": {
          "base_uri": "https://localhost:8080/"
        },
        "id": "Yb510EBrbUOW",
        "outputId": "9752b75f-37f3-478e-d9b0-a4d27a628624"
      },
      "outputs": [
        {
          "output_type": "stream",
          "name": "stdout",
          "text": [
            "Hello world \n"
          ]
        }
      ],
      "source": [
        "print(\"Hello world \")"
      ]
    },
    {
      "cell_type": "code",
      "source": [],
      "metadata": {
        "id": "TC4gq238cPLI"
      },
      "execution_count": 38,
      "outputs": []
    },
    {
      "cell_type": "code",
      "source": [
        "mynum = 2293"
      ],
      "metadata": {
        "id": "GDtELPhXcvUZ"
      },
      "execution_count": 39,
      "outputs": []
    },
    {
      "cell_type": "code",
      "source": [
        "mynum.bit_length\n"
      ],
      "metadata": {
        "colab": {
          "base_uri": "https://localhost:8080/"
        },
        "id": "sFtwyva6c40R",
        "outputId": "00bd64b8-c50d-4896-bb98-f748ce028e61"
      },
      "execution_count": 40,
      "outputs": [
        {
          "output_type": "execute_result",
          "data": {
            "text/plain": [
              "<function int.bit_length()>"
            ]
          },
          "metadata": {},
          "execution_count": 40
        }
      ]
    },
    {
      "cell_type": "code",
      "source": [
        "mynum.__eq__(2056)"
      ],
      "metadata": {
        "colab": {
          "base_uri": "https://localhost:8080/"
        },
        "id": "wsM98r30dNcx",
        "outputId": "6cadbf2c-3fe7-4a13-d4ea-551f75ea54d4"
      },
      "execution_count": 41,
      "outputs": [
        {
          "output_type": "execute_result",
          "data": {
            "text/plain": [
              "False"
            ]
          },
          "metadata": {},
          "execution_count": 41
        }
      ]
    },
    {
      "cell_type": "code",
      "source": [
        "import inspect"
      ],
      "metadata": {
        "id": "9j_ZXFUAdczJ"
      },
      "execution_count": 42,
      "outputs": []
    },
    {
      "cell_type": "code",
      "source": [
        "def addSomething(value1, value2):\n",
        "  return value1 + value2\n",
        "# call the function\n",
        "print(addSomething(5,2))"
      ],
      "metadata": {
        "colab": {
          "base_uri": "https://localhost:8080/"
        },
        "id": "wZdE2hggdyMx",
        "outputId": "d9949c82-1751-440d-db1c-dc3157b3b26e"
      },
      "execution_count": 43,
      "outputs": [
        {
          "output_type": "stream",
          "name": "stdout",
          "text": [
            "7\n"
          ]
        }
      ]
    },
    {
      "cell_type": "code",
      "source": [
        "YourName = \"Tony \" # @param {\"type\":\"string\"}\n",
        "print(f\"your name is:{YourName}\")\n"
      ],
      "metadata": {
        "colab": {
          "base_uri": "https://localhost:8080/"
        },
        "id": "gDf9KW5ZeDOp",
        "outputId": "f282bd4b-05d0-44b5-b516-d825c0068fc6"
      },
      "execution_count": 48,
      "outputs": [
        {
          "output_type": "stream",
          "name": "stdout",
          "text": [
            "your name is:Tony \n"
          ]
        }
      ]
    },
    {
      "cell_type": "markdown",
      "source": [
        "#things to do\n",
        "> - one\n",
        ">> - two\n",
        "> - three\n",
        "\n"
      ],
      "metadata": {
        "id": "iv7Rzyu-gg-r"
      }
    },
    {
      "cell_type": "code",
      "source": [],
      "metadata": {
        "id": "uDPCRU1Fer0B"
      },
      "execution_count": 44,
      "outputs": []
    }
  ]
}